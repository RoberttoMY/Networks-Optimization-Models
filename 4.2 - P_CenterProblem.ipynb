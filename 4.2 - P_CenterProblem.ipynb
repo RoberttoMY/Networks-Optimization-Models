{
 "cells": [
  {
   "cell_type": "code",
   "execution_count": 3,
   "metadata": {},
   "outputs": [],
   "source": [
    "#importar librerias\n",
    "import numpy as np;\n",
    "import pandas as pd;\n",
    "import matplotlib.pyplot as plt;\n",
    "from docplex.mp.model import Model;"
   ]
  },
  {
   "cell_type": "code",
   "execution_count": 4,
   "metadata": {},
   "outputs": [],
   "source": [
    "#Crear datos\n",
    "N=20;\n",
    "np.random.seed(1);\n",
    "x=list(np.random.random(N)*100);\n",
    "y=list(np.random.random(N)*100);\n",
    "demanda=list(np.random.randint(low=10,high=50,size=N));"
   ]
  },
  {
   "cell_type": "code",
   "execution_count": 6,
   "metadata": {},
   "outputs": [
    {
     "data": {
      "text/plain": [
       "[0, 1, 2, 3, 4, 5, 6, 7, 8, 9, 10, 11, 12, 13, 14, 15, 16, 17, 18, 19]"
      ]
     },
     "execution_count": 6,
     "metadata": {},
     "output_type": "execute_result"
    }
   ],
   "source": [
    "#Definicion de conjuntos\n",
    "nodos=[i for i in range(N)];\n",
    "ubicaciones=[i for i in nodos]; #{}: significa creación de un diccionario, fundamental para crear la variables binarias\n",
    "#Matriz de arcos\n",
    "arcos=[(i,j) for i in nodos for j in ubicaciones]; #{}: significa creación de un diccionario, fundamental para crear las variables binarias\n",
    "#Maximo numero de ubicaciones\n",
    "p=5; \n",
    "#Matriz de distancias\n",
    "distancia={(i,j):np.hypot(x[i]-x[j],y[i]-y[j]) for i in nodos for j in ubicaciones} \n",
    "#Demanda Total\n",
    "demanda_max=sum(demanda)\n",
    "#Creación de diccionario del peso relativo (porcentaje) de la demanda de cada nodo (w)\n",
    "w={(i):demanda[i]/demanda_max for i in nodos}\n",
    "ubicaciones"
   ]
  },
  {
   "cell_type": "code",
   "execution_count": 8,
   "metadata": {},
   "outputs": [],
   "source": [
    "#Creacion de variable que contenga el Modelo\n",
    "modelo=Model(\"P-CenterProblem\")"
   ]
  },
  {
   "cell_type": "code",
   "execution_count": 5,
   "metadata": {},
   "outputs": [],
   "source": [
    "#Creacion de variables\n",
    "X=modelo.binary_var_dict(arcos,name=\"X\") \n",
    "Y=modelo.binary_var_dict(ubicaciones,name=\"Y\")\n",
    "Z=modelo.continuous_var(name=\"Z\")"
   ]
  },
  {
   "cell_type": "code",
   "execution_count": 6,
   "metadata": {},
   "outputs": [],
   "source": [
    "#Creacion de función objetivo\n",
    "obj=Z\n",
    "#Instrucción de optimización\n",
    "modelo.minimize(obj)"
   ]
  },
  {
   "cell_type": "code",
   "execution_count": 7,
   "metadata": {},
   "outputs": [
    {
     "name": "stdout",
     "output_type": "stream",
     "text": [
      "CPXPARAM_Read_DataCheck                          1\n",
      "Found incumbent of value 40.448117 after 0.00 sec. (0.04 ticks)\n",
      "Tried aggregator 1 time.\n",
      "Reduced MIP has 61 rows, 421 columns, and 1240 nonzeros.\n",
      "Reduced MIP has 420 binaries, 0 generals, 0 SOSs, and 0 indicators.\n",
      "Presolve time = 0.02 sec. (0.80 ticks)\n",
      "Probing time = 0.02 sec. (0.99 ticks)\n",
      "Tried aggregator 1 time.\n",
      "Reduced MIP has 61 rows, 421 columns, and 1240 nonzeros.\n",
      "Reduced MIP has 420 binaries, 0 generals, 0 SOSs, and 0 indicators.\n",
      "Presolve time = 0.02 sec. (0.97 ticks)\n",
      "Probing time = 0.00 sec. (0.99 ticks)\n",
      "Clique table members: 420.\n",
      "MIP emphasis: balance optimality and feasibility.\n",
      "MIP search method: dynamic search.\n",
      "Parallel mode: deterministic, using up to 4 threads.\n",
      "Root relaxation solution time = 0.02 sec. (0.63 ticks)\n",
      "\n",
      "        Nodes                                         Cuts/\n",
      "   Node  Left     Objective  IInf  Best Integer    Best Bound    ItCnt     Gap\n",
      "\n",
      "*     0+    0                           40.4481        0.0000           100.00%\n",
      "*     0+    0                           39.9753        0.0000           100.00%\n",
      "      0     0        0.0000    16       39.9753        0.0000       19  100.00%\n",
      "*     0+    0                           11.0799        0.0000           100.00%\n",
      "      0     0        0.2882    65       11.0799      Cuts: 33      181   97.40%\n",
      "*     0+    0                           10.8466        0.2882            97.34%\n",
      "      0     0        0.4995    86       10.8466      Cuts: 59      219   95.39%\n",
      "*     0+    0                            5.7418        0.4995            91.30%\n",
      "      0     0        0.5695    98        5.7418      Cuts: 46      258   90.08%\n",
      "*     0+    0                            5.3806        0.5695            89.42%\n",
      "      0     0        0.5929   107        5.3806      Cuts: 50      296   88.98%\n",
      "*     0+    0                            4.3682        0.5929            86.43%\n",
      "      0     0        0.6136   109        4.3682      Cuts: 30      321   85.95%\n",
      "*     0+    0                            4.2840        0.6136            85.68%\n",
      "      0     0        0.6202   116        4.2840      Cuts: 25      335   85.52%\n",
      "      0     0        0.6287   120        4.2840      Cuts: 19      358   85.33%\n",
      "      0     0        0.6310   120        4.2840       Cuts: 6      366   85.27%\n",
      "*     0+    0                            4.2056        0.6310            85.00%\n",
      "      0     0        0.6314   119        4.2056    MIRcuts: 3      370   84.99%\n",
      "      0     0        0.6324   117        4.2056       Cuts: 8      381   84.96%\n",
      "*     0+    0                            3.9832        0.6324            84.12%\n",
      "      0     0        0.6331   119        3.9832       Cuts: 9      391   84.11%\n",
      "      0     0        0.6360   121        3.9832       Cuts: 4      405   84.03%\n",
      "      0     0        0.6361   120        3.9832       Cuts: 3      410   84.03%\n",
      "*     0+    0                            3.8656        0.6361            83.54%\n",
      "      0     0        0.6379   122        3.8656      Cuts: 12      423   83.50%\n",
      "      0     0        0.6386   122        3.8656    MIRcuts: 4      431   83.48%\n",
      "*     0+    0                            3.8480        0.6386            83.40%\n",
      "      0     0        0.6389   121        3.8480       Cuts: 4      435   83.40%\n",
      "*     0+    0                            3.7933        0.6389            83.16%\n",
      "      0     0        0.6396   121        3.7933       Cuts: 8      447   83.14%\n",
      "      0     0        0.6400   122        3.7933       Cuts: 6      458   83.13%\n",
      "      0     0        0.6410   121        3.7933    MIRcuts: 1      460   83.10%\n",
      "*     0+    0                            3.6284        0.6410            82.34%\n",
      "*     0+    0                            2.9682        0.6410            78.41%\n",
      "*     0+    0                            2.9538        0.7111            75.93%\n",
      "\n",
      "Repeating presolve.\n",
      "Tried aggregator 1 time.\n",
      "MIP Presolve eliminated 0 rows and 139 columns.\n",
      "MIP Presolve modified 176 coefficients.\n",
      "Reduced MIP has 61 rows, 282 columns, and 823 nonzeros.\n",
      "Reduced MIP has 281 binaries, 0 generals, 0 SOSs, and 0 indicators.\n",
      "Presolve time = 0.03 sec. (0.98 ticks)\n",
      "Probing time = 0.00 sec. (0.66 ticks)\n",
      "Tried aggregator 1 time.\n",
      "Reduced MIP has 61 rows, 282 columns, and 823 nonzeros.\n",
      "Reduced MIP has 281 binaries, 0 generals, 0 SOSs, and 0 indicators.\n",
      "Presolve time = 0.02 sec. (0.70 ticks)\n",
      "Represolve time = 0.08 sec. (4.19 ticks)\n",
      "Probing time = 0.00 sec. (0.66 ticks)\n",
      "Clique table members: 294.\n",
      "MIP emphasis: balance optimality and feasibility.\n",
      "MIP search method: dynamic search.\n",
      "Parallel mode: deterministic, using up to 4 threads.\n",
      "Root relaxation solution time = 0.02 sec. (4.77 ticks)\n",
      "\n",
      "        Nodes                                         Cuts/\n",
      "   Node  Left     Objective  IInf  Best Integer    Best Bound    ItCnt     Gap\n",
      "\n",
      "*     0+    0                            2.9538        0.7111            75.93%\n",
      "      0     0        0.6461   117        2.9538        0.7111      714   75.93%\n",
      "      0     0        0.7614   112        2.9538      Cuts: 39      835   74.22%\n",
      "      0     0        0.7992   120        2.9538      Cuts: 49      901   72.94%\n",
      "*     0+    0                            2.8787        0.7992            72.24%\n",
      "      0     0        0.8219   119        2.8787      Cuts: 42      963   71.45%\n",
      "      0     0        0.8291   121        2.8787      Cuts: 20      997   71.20%\n",
      "      0     0        0.8334   124        2.8787      Cuts: 17     1028   71.05%\n",
      "      0     0        0.8343   125        2.8787       Cuts: 6     1040   71.02%\n",
      "      0     0        0.8351   126        2.8787       Cuts: 3     1047   70.99%\n",
      "      0     0        0.8357   124        2.8787       Cuts: 4     1056   70.97%\n",
      "      0     0        0.8372   124        2.8787       Cuts: 3     1064   70.92%\n",
      "      0     0        0.8386   123        2.8787       Cuts: 5     1076   70.87%\n",
      "      0     0        0.8388   125        2.8787       Cuts: 4     1088   70.86%\n",
      "      0     0        0.8388   126        2.8787       Cuts: 4     1092   70.86%\n",
      "      0     0        0.8388   127        2.8787    MIRcuts: 1     1094   70.86%\n",
      "*     0+    0                            2.8440        0.8388            70.51%\n",
      "*     0+    0                            2.8440        0.8616            69.71%\n",
      "      0     2        0.8388   125        2.8440        0.8616     1094   69.71%\n",
      "Elapsed time = 2.75 sec. (205.14 ticks, tree = 0.02 MB, solutions = 18)\n",
      "   1471   487        1.7399    60        2.8440        1.4477    32168   49.10%\n",
      "   3362   549        2.3894    43        2.8440        2.2838    75518   19.70%\n",
      "*  3618   477      integral     0        2.7789        2.3614    86118   15.02%\n",
      "\n",
      "GUB cover cuts applied:  11\n",
      "Clique cuts applied:  27\n",
      "Cover cuts applied:  69\n",
      "Implied bound cuts applied:  2\n",
      "Flow cuts applied:  1\n",
      "Mixed integer rounding cuts applied:  16\n",
      "Zero-half cuts applied:  6\n",
      "Lift and project cuts applied:  21\n",
      "Gomory fractional cuts applied:  15\n",
      "\n",
      "Root node processing (before b&c):\n",
      "  Real time             =    2.72 sec. (204.84 ticks)\n",
      "Parallel b&c, 4 threads:\n",
      "  Real time             =    3.66 sec. (597.82 ticks)\n",
      "  Sync time (average)   =    0.56 sec.\n",
      "  Wait time (average)   =    0.00 sec.\n",
      "                          ------------\n",
      "Total (root+branch&cut) =    6.38 sec. (802.66 ticks)\n"
     ]
    }
   ],
   "source": [
    "#Creación de restricciones\n",
    "modelo.add_constraints(modelo.sum(distancia[i,j]*X[i,j]*w[i] for i in nodos)<=Z for j in ubicaciones) #Restriccion fundamental para minimizar el objetivo\n",
    "modelo.add_constraints(modelo.sum(X[i,j] for j in ubicaciones)==1 for i in nodos) #Se agrega restricción para cada nodo ya que la indicacion es constraints\n",
    "modelo.add_constraint(modelo.sum(Y[j] for j in ubicaciones)<=p) #Equivale a una sola restricción\n",
    "M=len(ubicaciones)\n",
    "modelo.add_constraints(modelo.sum(X[i,j] for i in nodos)-M*Y[j] <=0 for j in ubicaciones)\n",
    "sol=modelo.solve(log_output=True)"
   ]
  },
  {
   "cell_type": "code",
   "execution_count": 8,
   "metadata": {},
   "outputs": [
    {
     "data": {
      "text/plain": [
       "<JobSolveStatus.OPTIMAL_SOLUTION: 2>"
      ]
     },
     "execution_count": 8,
     "metadata": {},
     "output_type": "execute_result"
    }
   ],
   "source": [
    "#Verificacion de optimalidad del modelo\n",
    "modelo.get_solve_status()"
   ]
  },
  {
   "cell_type": "code",
   "execution_count": 9,
   "metadata": {},
   "outputs": [
    {
     "name": "stdout",
     "output_type": "stream",
     "text": [
      "solution for: P-CenterProblem\n",
      "Z: 2.779\n",
      "X_0_4 = 1\n",
      "X_1_11 = 1\n",
      "X_2_14 = 1\n",
      "X_3_16 = 1\n",
      "X_4_4 = 1\n",
      "X_5_4 = 1\n",
      "X_6_14 = 1\n",
      "X_7_7 = 1\n",
      "X_8_7 = 1\n",
      "X_9_16 = 1\n",
      "X_10_7 = 1\n",
      "X_11_11 = 1\n",
      "X_12_4 = 1\n",
      "X_13_11 = 1\n",
      "X_14_14 = 1\n",
      "X_15_11 = 1\n",
      "X_16_16 = 1\n",
      "X_17_16 = 1\n",
      "X_18_7 = 1\n",
      "X_19_4 = 1\n",
      "Y_4 = 1\n",
      "Y_7 = 1\n",
      "Y_11 = 1\n",
      "Y_14 = 1\n",
      "Y_16 = 1\n",
      "Z = 2.779\n"
     ]
    }
   ],
   "source": [
    "#Visualización de solución\n",
    "sol.display()"
   ]
  },
  {
   "cell_type": "code",
   "execution_count": 10,
   "metadata": {},
   "outputs": [
    {
     "name": "stdout",
     "output_type": "stream",
     "text": [
      "[(0, 4), (1, 11), (2, 14), (3, 16), (4, 4), (5, 4), (6, 14), (7, 7), (8, 7), (9, 16), (10, 7), (11, 11), (12, 4), (13, 11), (14, 14), (15, 11), (16, 16), (17, 16), (18, 7), (19, 4)]\n"
     ]
    }
   ],
   "source": [
    "#Creación de lista con arcos seleccionados\n",
    "arcos_activos=[k for k in arcos if X[k].solution_value>0.99]\n",
    "print(arcos_activos)"
   ]
  },
  {
   "cell_type": "code",
   "execution_count": 11,
   "metadata": {},
   "outputs": [
    {
     "name": "stdout",
     "output_type": "stream",
     "text": [
      "[4, 7, 11, 14, 16]\n"
     ]
    }
   ],
   "source": [
    "#Creación de lista con ubicaciones seleccionadas\n",
    "ubicaciones_activas=[k for k in ubicaciones if Y[k].solution_value>0.99]\n",
    "print(ubicaciones_activas)"
   ]
  },
  {
   "cell_type": "code",
   "execution_count": 12,
   "metadata": {},
   "outputs": [
    {
     "data": {
      "image/png": "[encoded data removed]",
      "text/plain": [
       "<Figure size 1008x504 with 1 Axes>"
      ]
     },
     "metadata": {
      "needs_background": "light"
     },
     "output_type": "display_data"
    }
   ],
   "source": [
    "#Creación Gráfico\n",
    "plt.figure(figsize=(14,7));\n",
    "plt.scatter(x,y,color=\"black\");\n",
    "\n",
    "#Codigo que permite anotar etiquetas a los puntos gráficados (nodos)\n",
    "for i in range(len(x)):\n",
    "    plt.annotate(\"$d_{%d}=%d$\"%(i,demanda[i]),(x[i]+0.5,y[i]-1),size=10);\n",
    "    \n",
    "#Codigo que permite graficar las lineas de conexión entre los nodos y las ubicaciones seleccionadas para su abastecimiento\n",
    "for n in arcos_activos:\n",
    "    i=n[0]\n",
    "    j=n[1]\n",
    "    plt.plot([x[i],x[j]],[y[i],y[j]],color=\"red\")\n",
    "#Codigos para indicar nombre a los ejes y título del gráfico\n",
    "plt.xlabel(\"Eje x\");\n",
    "plt.ylabel(\"Eje y\");\n",
    "plt.title(\"Nodos\");\n",
    "plt.show();"
   ]
  }
 ],
 "metadata": {
  "kernelspec": {
   "display_name": "Python 3",
   "language": "python",
   "name": "python3"
  },
  "language_info": {
   "codemirror_mode": {
    "name": "ipython",
    "version": 3
   },
   "file_extension": ".py",
   "mimetype": "text/x-python",
   "name": "python",
   "nbconvert_exporter": "python",
   "pygments_lexer": "ipython3",
   "version": "3.8.8"
  }
 },
 "nbformat": 4,
 "nbformat_minor": 2
}
