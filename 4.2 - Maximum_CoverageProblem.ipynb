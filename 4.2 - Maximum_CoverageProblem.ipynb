{
 "cells": [
  {
   "cell_type": "code",
   "execution_count": 1,
   "metadata": {},
   "outputs": [],
   "source": [
    "#importar librerias\n",
    "import numpy as np;\n",
    "import pandas as pd\n",
    "import matplotlib.pyplot as plt;\n",
    "from docplex.mp.model import Model;"
   ]
  },
  {
   "cell_type": "code",
   "execution_count": 5,
   "metadata": {},
   "outputs": [],
   "source": [
    "#Crear datos\n",
    "N=20;\n",
    "np.random.seed(1);\n",
    "x=list(np.random.random(N)*100);\n",
    "y=list(np.random.random(N)*100);\n",
    "demanda=list(np.random.randint(low=10,high=50,size=N));"
   ]
  },
  {
   "cell_type": "code",
   "execution_count": 8,
   "metadata": {},
   "outputs": [],
   "source": [
    "#Definicion de conjuntos\n",
    "nodos=[i for i in range(N)];\n",
    "ubicaciones=[i for i in nodos]; #{}: significa creación de un diccionario, fundamental para crear la variables binarias\n",
    "#Maximo numero de ubicaciones\n",
    "p=5; \n",
    "#Maxima covertura (coverage)\n",
    "max_cov=10;\n",
    "#Matriz de distancias\n",
    "distancia={(i,j):np.hypot(x[i]-x[j],y[i]-y[j]) for i in nodos for j in ubicaciones};\n",
    "#Matriz que inidica si el nodo i puede ser abastecido por la ubicación j (1), else (0)\n",
    "a={(i,j):1 if distancia[(i,j)]<=max_cov else 0 for i in nodos for j in ubicaciones};"
   ]
  },
  {
   "cell_type": "code",
   "execution_count": 9,
   "metadata": {},
   "outputs": [],
   "source": [
    "#Creacion y almacenamiento del modelo en la variable modl\n",
    "modl=Model('Maximum_CoverageProblem');"
   ]
  },
  {
   "cell_type": "code",
   "execution_count": 10,
   "metadata": {},
   "outputs": [],
   "source": [
    "#Creacion y almacenamiento de variables \n",
    "X=modl.binary_var_dict(nodos,name='X');\n",
    "Y=modl.binary_var_dict(ubicaciones,name='Y');"
   ]
  },
  {
   "cell_type": "code",
   "execution_count": 66,
   "metadata": {},
   "outputs": [],
   "source": [
    "#Creación de función objetivo e instruccion de optmizacion\n",
    "obj=modl.sum(demanda[i]*X[i] for i in nodos);\n",
    "modl.maximize(obj);"
   ]
  },
  {
   "cell_type": "code",
   "execution_count": 67,
   "metadata": {},
   "outputs": [
    {
     "name": "stdout",
     "output_type": "stream",
     "text": [
      "CPXPARAM_Read_DataCheck                          1\n",
      "Found incumbent of value 0.000000 after 0.00 sec. (0.00 ticks)\n",
      "Tried aggregator 2 times.\n",
      "MIP Presolve eliminated 6 rows and 6 columns.\n",
      "Aggregator did 14 substitutions.\n",
      "Reduced MIP has 1 rows, 14 columns, and 14 nonzeros.\n",
      "Reduced MIP has 14 binaries, 0 generals, 0 SOSs, and 0 indicators.\n",
      "Presolve time = 0.02 sec. (0.06 ticks)\n",
      "Probing time = 0.00 sec. (0.00 ticks)\n",
      "Tried aggregator 1 time.\n",
      "Reduced MIP has 1 rows, 14 columns, and 14 nonzeros.\n",
      "Reduced MIP has 14 binaries, 0 generals, 0 SOSs, and 0 indicators.\n",
      "Presolve time = 0.02 sec. (0.01 ticks)\n",
      "Probing time = 0.00 sec. (0.00 ticks)\n",
      "MIP emphasis: balance optimality and feasibility.\n",
      "MIP search method: dynamic search.\n",
      "Parallel mode: deterministic, using up to 4 threads.\n",
      "Root relaxation solution time = 0.00 sec. (0.01 ticks)\n",
      "\n",
      "        Nodes                                         Cuts/\n",
      "   Node  Left     Objective  IInf  Best Integer    Best Bound    ItCnt     Gap\n",
      "\n",
      "*     0+    0                            0.0000      620.0000              --- \n",
      "*     0     0      integral     0      389.0000      389.0000        1    0.00%\n",
      "Elapsed time = 0.09 sec. (0.10 ticks, tree = 0.00 MB, solutions = 2)\n",
      "\n",
      "Root node processing (before b&c):\n",
      "  Real time             =    0.11 sec. (0.11 ticks)\n",
      "Parallel b&c, 4 threads:\n",
      "  Real time             =    0.00 sec. (0.00 ticks)\n",
      "  Sync time (average)   =    0.00 sec.\n",
      "  Wait time (average)   =    0.00 sec.\n",
      "                          ------------\n",
      "Total (root+branch&cut) =    0.11 sec. (0.11 ticks)\n"
     ]
    }
   ],
   "source": [
    "#Creación de restricciones\n",
    "modl.add_constraints(modl.sum(a[i,j]*Y[j] for j in ubicaciones)>=X[i] for i in nodos);\n",
    "modl.add_constraint(modl.sum(Y[j] for j in ubicaciones)<=p); #Equivale a una sola restricción\n",
    "sol=modl.solve(log_output=True);"
   ]
  },
  {
   "cell_type": "code",
   "execution_count": 68,
   "metadata": {},
   "outputs": [],
   "source": [
    "modl.get_solve_status();"
   ]
  },
  {
   "cell_type": "code",
   "execution_count": 69,
   "metadata": {},
   "outputs": [
    {
     "name": "stdout",
     "output_type": "stream",
     "text": [
      "solution for: Maximum_CoverageProblem\n",
      "objective: 389\n",
      "X_4 = 1\n",
      "X_5 = 1\n",
      "X_6 = 1\n",
      "X_7 = 1\n",
      "X_8 = 1\n",
      "X_9 = 1\n",
      "X_10 = 1\n",
      "X_12 = 1\n",
      "X_16 = 1\n",
      "X_17 = 1\n",
      "X_18 = 1\n",
      "Y_4 = 1\n",
      "Y_6 = 1\n",
      "Y_9 = 1\n",
      "Y_10 = 1\n",
      "Y_16 = 1\n"
     ]
    }
   ],
   "source": [
    "sol.display();"
   ]
  },
  {
   "cell_type": "code",
   "execution_count": 70,
   "metadata": {},
   "outputs": [
    {
     "name": "stdout",
     "output_type": "stream",
     "text": [
      "La covertura es de:  62.74 %\n"
     ]
    }
   ],
   "source": [
    "c=modl.objective_value/sum(demanda);\n",
    "print(\"La covertura es de: \",round(c*100,2),\"%\");"
   ]
  },
  {
   "cell_type": "code",
   "execution_count": 71,
   "metadata": {},
   "outputs": [
    {
     "name": "stdout",
     "output_type": "stream",
     "text": [
      "[4, 5, 6, 7, 8, 9, 10, 12, 16, 17, 18]\n"
     ]
    }
   ],
   "source": [
    "#Creación de lista con nodos seleccionados\n",
    "nodos_activos=[k for k in nodos if X[k].solution_value>0.99];\n",
    "print(nodos_activos);"
   ]
  },
  {
   "cell_type": "code",
   "execution_count": 72,
   "metadata": {},
   "outputs": [
    {
     "name": "stdout",
     "output_type": "stream",
     "text": [
      "[4, 6, 9, 10, 16]\n"
     ]
    }
   ],
   "source": [
    "#Creación de lista con ubicaciones seleccionadas\n",
    "ubicaciones_activas=[k for k in ubicaciones if Y[k].solution_value>0.99];\n",
    "print(ubicaciones_activas);"
   ]
  },
  {
   "cell_type": "code",
   "execution_count": 73,
   "metadata": {},
   "outputs": [
    {
     "name": "stdout",
     "output_type": "stream",
     "text": [
      "4 = coordenadas( 14.675589081711305 , 87.63891522960382 )\n",
      "6 = coordenadas( 18.62602113776709 , 8.504421136977792 )\n",
      "9 = coordenadas( 53.88167340033569 , 87.8142503429413 )\n",
      "10 = coordenadas( 41.91945144032948 , 9.83468338330501 )\n",
      "16 = coordenadas( 41.730480236712694 , 68.65009276815837 )\n"
     ]
    },
    {
     "data": {
      "image/png": "[encoded data removed]",
      "text/plain": [
       "<Figure size 1008x504 with 1 Axes>"
      ]
     },
     "metadata": {
      "needs_background": "light"
     },
     "output_type": "display_data"
    }
   ],
   "source": [
    "#Creación Gráfico\n",
    "plt.figure(figsize=(14,7));\n",
    "plt.scatter(x,y,color=\"black\");\n",
    "\n",
    "#Codigo que permite anotar etiquetas a los puntos gráficados (nodos)\n",
    "for i in range(len(x)):\n",
    "    plt.annotate(\"$d_{%d}=%d$\"%(i,demanda[i]),(x[i]+0.5,y[i]-1),size=10);\n",
    "    \n",
    "#Codigo que permite graficar las ubicaciones seleccionadas y con un marcador cuadrado\n",
    "for n in ubicaciones_activas:\n",
    "    plt.scatter(x[n],y[n],color=\"blue\",marker=\"s\");\n",
    "    print(n,\"= coordenadas(\",x[n],\",\",y[n],\")\")\n",
    "    #Codigo que permite graficar las lineas de conexión entre los nodos y las ubicaciones seleccionadas para su abastecimiento\n",
    "    for k in range(len(nodos)):\n",
    "        if a[(n,k)]==1:\n",
    "            i=n\n",
    "            j=nodos[k]\n",
    "            plt.plot([x[i],x[j]],[y[i],y[j]],color=\"red\")\n",
    "#Codigos para indicar nombre a los ejes y título del gráfico\n",
    "plt.xlabel(\"Eje x\");\n",
    "plt.ylabel(\"Eje y\");\n",
    "plt.title(\"Nodos\");\n",
    "plt.show();"
   ]
  },
  {
   "cell_type": "code",
   "execution_count": null,
   "metadata": {},
   "outputs": [],
   "source": []
  },
  {
   "cell_type": "code",
   "execution_count": null,
   "metadata": {},
   "outputs": [],
   "source": []
  },
  {
   "cell_type": "code",
   "execution_count": null,
   "metadata": {},
   "outputs": [],
   "source": []
  }
 ],
 "metadata": {
  "kernelspec": {
   "display_name": "Python 3",
   "language": "python",
   "name": "python3"
  },
  "language_info": {
   "codemirror_mode": {
    "name": "ipython",
    "version": 3
   },
   "file_extension": ".py",
   "mimetype": "text/x-python",
   "name": "python",
   "nbconvert_exporter": "python",
   "pygments_lexer": "ipython3",
   "version": "3.8.8"
  }
 },
 "nbformat": 4,
 "nbformat_minor": 2
}
