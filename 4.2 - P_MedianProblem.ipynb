{
 "cells": [
  {
   "cell_type": "code",
   "execution_count": 1,
   "metadata": {},
   "outputs": [],
   "source": [
    "#importar librerias\n",
    "import numpy as np;\n",
    "import pandas as pd;\n",
    "import matplotlib.pyplot as plt;\n",
    "from docplex.mp.model import Model;"
   ]
  },
  {
   "cell_type": "code",
   "execution_count": 2,
   "metadata": {},
   "outputs": [],
   "source": [
    "#Crear datos\n",
    "N=20;\n",
    "np.random.seed(1);\n",
    "x=list(np.random.random(N)*100);\n",
    "y=list(np.random.random(N)*100);\n",
    "demanda=list(np.random.randint(low=10,high=50,size=N));"
   ]
  },
  {
   "cell_type": "code",
   "execution_count": 3,
   "metadata": {},
   "outputs": [],
   "source": [
    "#Definicion de conjuntos\n",
    "nodos=[i for i in range(N)];\n",
    "ubicaciones=[i for i in nodos]; #{}: significa creación de un diccionario, fundamental para crear la variables binarias\n",
    "#Matriz de arcos\n",
    "arcos=[(i,j) for i in nodos for j in ubicaciones]; #{}: significa creación de un diccionario, fundamental para crear las variables binarias\n",
    "#Maximo numero de ubicaciones\n",
    "p=5; \n",
    "#Matriz de distancias\n",
    "distancia={(i,j):np.hypot(x[i]-x[j],y[i]-y[j]) for i in nodos for j in ubicaciones} "
   ]
  },
  {
   "cell_type": "code",
   "execution_count": 4,
   "metadata": {},
   "outputs": [],
   "source": [
    "mdl=Model(\"P-MedianProblem\")"
   ]
  },
  {
   "cell_type": "code",
   "execution_count": 5,
   "metadata": {},
   "outputs": [],
   "source": [
    "#Creación de variables binarias\n",
    "X=mdl.binary_var_dict(arcos,name=\"X\") \n",
    "Y=mdl.binary_var_dict(ubicaciones,name=\"Y\")"
   ]
  },
  {
   "cell_type": "code",
   "execution_count": 6,
   "metadata": {},
   "outputs": [],
   "source": [
    "#Creación de función objetivo\n",
    "obj=mdl.sum(distancia[i,j]*X[i,j] for j in ubicaciones for i in nodos)\n",
    "#Instrucción de optimización\n",
    "mdl.minimize(obj)"
   ]
  },
  {
   "cell_type": "code",
   "execution_count": 7,
   "metadata": {},
   "outputs": [
    {
     "name": "stdout",
     "output_type": "stream",
     "text": [
      "CPXPARAM_Read_DataCheck                          1\n",
      "Tried aggregator 1 time.\n",
      "Reduced MIP has 421 rows, 420 columns, and 1220 nonzeros.\n",
      "Reduced MIP has 420 binaries, 0 generals, 0 SOSs, and 0 indicators.\n",
      "Presolve time = 0.09 sec. (1.16 ticks)\n",
      "Found incumbent of value 842.618875 after 0.09 sec. (1.41 ticks)\n",
      "Probing time = 0.02 sec. (0.45 ticks)\n",
      "Tried aggregator 1 time.\n",
      "Reduced MIP has 421 rows, 420 columns, and 1220 nonzeros.\n",
      "Reduced MIP has 420 binaries, 0 generals, 0 SOSs, and 0 indicators.\n",
      "Presolve time = 0.02 sec. (1.33 ticks)\n",
      "Probing time = 0.02 sec. (0.45 ticks)\n",
      "Clique table members: 420.\n",
      "MIP emphasis: balance optimality and feasibility.\n",
      "MIP search method: dynamic search.\n",
      "Parallel mode: deterministic, using up to 4 threads.\n",
      "Root relaxation solution time = 0.06 sec. (0.98 ticks)\n",
      "\n",
      "        Nodes                                         Cuts/\n",
      "   Node  Left     Objective  IInf  Best Integer    Best Bound    ItCnt     Gap\n",
      "\n",
      "*     0+    0                          842.6189        0.0000           100.00%\n",
      "*     0+    0                          324.8935        0.0000           100.00%\n",
      "*     0+    0                          279.9801        0.0000           100.00%\n",
      "*     0     0      integral     0      223.7079      223.7079       64    0.00%\n",
      "Elapsed time = 0.25 sec. (5.38 ticks, tree = 0.00 MB, solutions = 4)\n",
      "\n",
      "Root node processing (before b&c):\n",
      "  Real time             =    0.25 sec. (5.40 ticks)\n",
      "Parallel b&c, 4 threads:\n",
      "  Real time             =    0.00 sec. (0.00 ticks)\n",
      "  Sync time (average)   =    0.00 sec.\n",
      "  Wait time (average)   =    0.00 sec.\n",
      "                          ------------\n",
      "Total (root+branch&cut) =    0.25 sec. (5.40 ticks)\n"
     ]
    }
   ],
   "source": [
    "#Creación de restricciones\n",
    "mdl.add_constraints(mdl.sum(X[i,j] for j in ubicaciones)==1 for i in nodos) #Se agrega restricción para cada nodo ya que la indicacion es constraints\n",
    "mdl.add_constraint(mdl.sum(Y[j] for j in ubicaciones)==p) #Equivale a una sola restricción\n",
    "mdl.add_constraints(X[i,j]-Y[j] <= 0 for i in nodos for j in ubicaciones) #Restringe que cada nodo sea abastecido por la ubicacion correspondiente\n",
    "#Creación de variable que almacena la solución del modelo e \"instrucción de visualización\"\n",
    "solucion=mdl.solve(log_output=True)"
   ]
  },
  {
   "cell_type": "code",
   "execution_count": 8,
   "metadata": {},
   "outputs": [
    {
     "data": {
      "text/plain": [
       "<JobSolveStatus.OPTIMAL_SOLUTION: 2>"
      ]
     },
     "execution_count": 8,
     "metadata": {},
     "output_type": "execute_result"
    }
   ],
   "source": [
    "#Instrucción que permite verificar si la solución es óptima\n",
    "mdl.get_solve_status()"
   ]
  },
  {
   "cell_type": "code",
   "execution_count": 9,
   "metadata": {},
   "outputs": [
    {
     "name": "stdout",
     "output_type": "stream",
     "text": [
      "solution for: P-MedianProblem\n",
      "objective: 223.708\n",
      "X_0_17 = 1\n",
      "X_1_17 = 1\n",
      "X_2_6 = 1\n",
      "X_3_4 = 1\n",
      "X_4_4 = 1\n",
      "X_5_4 = 1\n",
      "X_6_6 = 1\n",
      "X_7_10 = 1\n",
      "X_8_10 = 1\n",
      "X_9_17 = 1\n",
      "X_10_10 = 1\n",
      "X_11_11 = 1\n",
      "X_12_4 = 1\n",
      "X_13_11 = 1\n",
      "X_14_4 = 1\n",
      "X_15_11 = 1\n",
      "X_16_17 = 1\n",
      "X_17_17 = 1\n",
      "X_18_6 = 1\n",
      "X_19_4 = 1\n",
      "Y_4 = 1\n",
      "Y_6 = 1\n",
      "Y_10 = 1\n",
      "Y_11 = 1\n",
      "Y_17 = 1\n"
     ]
    }
   ],
   "source": [
    "#Intrucción que permite visualizar las soluciones\n",
    "solucion.display()"
   ]
  },
  {
   "cell_type": "code",
   "execution_count": 10,
   "metadata": {},
   "outputs": [
    {
     "name": "stdout",
     "output_type": "stream",
     "text": [
      "[(0, 17), (1, 17), (2, 6), (3, 4), (4, 4), (5, 4), (6, 6), (7, 10), (8, 10), (9, 17), (10, 10), (11, 11), (12, 4), (13, 11), (14, 4), (15, 11), (16, 17), (17, 17), (18, 6), (19, 4)]\n"
     ]
    }
   ],
   "source": [
    "#Creación de lista con arcos seleccionados\n",
    "arcos_activos=[k for k in arcos if X[k].solution_value>0.99]\n",
    "print(arcos_activos)"
   ]
  },
  {
   "cell_type": "code",
   "execution_count": 11,
   "metadata": {},
   "outputs": [
    {
     "name": "stdout",
     "output_type": "stream",
     "text": [
      "[4, 6, 10, 11, 17]\n"
     ]
    }
   ],
   "source": [
    "#Creación de lista con ubicaciones seleccionadas\n",
    "ubicaciones_activas=[k for k in ubicaciones if Y[k].solution_value>0.99]\n",
    "print(ubicaciones_activas)"
   ]
  },
  {
   "cell_type": "code",
   "execution_count": 12,
   "metadata": {},
   "outputs": [
    {
     "data": {
      "image/png": "[encoded data removed]",
      "text/plain": [
       "<Figure size 1008x504 with 1 Axes>"
      ]
     },
     "metadata": {
      "needs_background": "light"
     },
     "output_type": "display_data"
    }
   ],
   "source": [
    "#Creación Gráfico\n",
    "plt.figure(figsize=(14,7));\n",
    "plt.scatter(x,y,color=\"black\");\n",
    "\n",
    "#Codigo que permite anotar etiquetas a los puntos gráficados (nodos)\n",
    "for i in range(len(x)):\n",
    "    plt.annotate(\"$d_{%d}=%d$\"%(i,demanda[i]),(x[i]+0.5,y[i]-1),size=10);\n",
    "    \n",
    "#Codigo que permite graficar las lineas de conexión entre los nodos y las ubicaciones seleccionadas para su abastecimiento\n",
    "for n in arcos_activos:\n",
    "    i=n[0]\n",
    "    j=n[1]\n",
    "    plt.plot([x[i],x[j]],[y[i],y[j]],color=\"red\")\n",
    "\n",
    "#Codigos para indicar nombre a los ejes y título del gráfico\n",
    "plt.xlabel(\"Eje x\");\n",
    "plt.ylabel(\"Eje y\");\n",
    "plt.title(\"Nodos\");\n",
    "plt.show();"
   ]
  },
  {
   "cell_type": "code",
   "execution_count": 13,
   "metadata": {},
   "outputs": [
    {
     "name": "stdout",
     "output_type": "stream",
     "text": [
      "223.70793924145528\n"
     ]
    }
   ],
   "source": [
    "print(obj.solution_value)"
   ]
  }
 ],
 "metadata": {
  "kernelspec": {
   "display_name": "Python 3",
   "language": "python",
   "name": "python3"
  },
  "language_info": {
   "codemirror_mode": {
    "name": "ipython",
    "version": 3
   },
   "file_extension": ".py",
   "mimetype": "text/x-python",
   "name": "python",
   "nbconvert_exporter": "python",
   "pygments_lexer": "ipython3",
   "version": "3.8.8"
  }
 },
 "nbformat": 4,
 "nbformat_minor": 2
}
